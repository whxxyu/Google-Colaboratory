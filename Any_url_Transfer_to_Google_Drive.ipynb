{
  "nbformat": 4,
  "nbformat_minor": 0,
  "metadata": {
    "colab": {
      "name": "Any url Transfer to Google Drive.ipynb",
      "provenance": [],
      "collapsed_sections": []
    },
    "kernelspec": {
      "name": "python3",
      "display_name": "Python 3"
    }
  },
  "cells": [
    {
      "cell_type": "markdown",
      "metadata": {
        "id": "m5v34jmCNFe4"
      },
      "source": [
        "###__Mount with Google Drive__\r\n",
        "\r\n"
      ]
    },
    {
      "cell_type": "code",
      "metadata": {
        "id": "Ibsqrt1Jv6HD"
      },
      "source": [
        "from google.colab import drive\n",
        "drive.mount('/content/drive')"
      ],
      "execution_count": null,
      "outputs": []
    },
    {
      "cell_type": "markdown",
      "metadata": {
        "id": "Cn85BlSpN27J"
      },
      "source": [
        "##__Transfer from Any url to Google Drive__"
      ]
    },
    {
      "cell_type": "code",
      "metadata": {
        "id": "PUwGHQ8QwB8R"
      },
      "source": [
        "import os\r\n",
        "os.chdir(\"/content/drive/My Drive/Download\")\r\n",
        "\r\n",
        "!wget -c --no-check-certificate #Link URL Paste Here#"
      ],
      "execution_count": null,
      "outputs": []
    }
  ]
}