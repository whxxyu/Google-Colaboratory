{
  "nbformat": 4,
  "nbformat_minor": 0,
  "metadata": {
    "colab": {
      "name": "Torrent To Google Drive Downloader v2",
      "provenance": [],
      "collapsed_sections": [
        "Uf90U73y9YOj",
        "FexiyATtNwTG",
        "tqKcWHZcYRIA"
      ]
    },
    "kernelspec": {
      "name": "python3",
      "display_name": "Python 3"
    }
  },
  "cells": [
    {
      "cell_type": "markdown",
      "metadata": {
        "id": "aQuWDmfm9YOi"
      },
      "source": [
        "# Torrent To Google Drive Downloader v2"
      ]
    },
    {
      "cell_type": "markdown",
      "metadata": {
        "id": "Uf90U73y9YOj"
      },
      "source": [
        "### Mount Google Drive\n",
        "To stream files we need to mount Google Drive."
      ]
    },
    {
      "cell_type": "code",
      "metadata": {
        "id": "oWM9l2fvtuvO"
      },
      "source": [
        "from google.colab import drive\n",
        "drive.mount('/content/drive')"
      ],
      "execution_count": null,
      "outputs": []
    },
    {
      "cell_type": "markdown",
      "metadata": {
        "id": "FexiyATtNwTG"
      },
      "source": [
        "###Dependency\n"
      ]
    },
    {
      "cell_type": "code",
      "metadata": {
        "id": "m6hF0emftx4h"
      },
      "source": [
        "!apt install python3-libtorrent"
      ],
      "execution_count": null,
      "outputs": []
    },
    {
      "cell_type": "markdown",
      "metadata": {
        "id": "tqKcWHZcYRIA"
      },
      "source": [
        "### Code to download torrent\n",
        "Variable **link** stores the link string."
      ]
    },
    {
      "cell_type": "code",
      "metadata": {
        "id": "b09BxnANO2ep"
      },
      "source": [
        "import libtorrent as lt\n",
        "import time\n",
        "import datetime\n",
        "\n",
        "ses = lt.session()\n",
        "ses.listen_on(6881, 6891)\n",
        "params = {\n",
        "    'save_path': '/content/drive/My Drive/Torrent/',\n",
        "    'storage_mode': lt.storage_mode_t(2),\n",
        "    'paused': False,\n",
        "    'auto_managed': True,\n",
        "    'duplicate_is_error': True}\n",
        "\n",
        "link = \"MAGNET LINK DOWNLOAD TORRENT\" #PASTE TORRENT/MAGNET LINK HERE\n",
        "print(link)\n",
        "\n",
        "handle = lt.add_magnet_uri(ses, link, params)\n",
        "ses.start_dht()\n",
        "\n",
        "begin = time.time()\n",
        "print(datetime.datetime.now())\n",
        "\n",
        "print ('Downloading Metadata...')\n",
        "while (not handle.has_metadata()):\n",
        "    time.sleep(1)\n",
        "print ('Got Metadata, Starting Torrent Download...')\n",
        "\n",
        "print(\"Starting\", handle.name())\n",
        "\n",
        "while (handle.status().state != lt.torrent_status.seeding):\n",
        "    s = handle.status()\n",
        "    state_str = ['queued', 'checking', 'downloading metadata', \\\n",
        "            'downloading', 'finished', 'seeding', 'allocating']\n",
        "    print ('%.2f%% complete (down: %.1f kb/s up: %.1f kB/s peers: %d) %s ' % \\\n",
        "            (s.progress * 100, s.download_rate / 1000, s.upload_rate / 1000, \\\n",
        "            s.num_peers, state_str[s.state]))\n",
        "    time.sleep(5)\n",
        "\n",
        "end = time.time()\n",
        "print(handle.name(), \"COMPLETE\")\n",
        "\n",
        "print(\"Elapsed Time: \",int((end-begin)//60),\"min :\", int((end-begin)%60), \"sec\")\n",
        "\n",
        "print(datetime.datetime.now())"
      ],
      "execution_count": null,
      "outputs": []
    }
  ]
}