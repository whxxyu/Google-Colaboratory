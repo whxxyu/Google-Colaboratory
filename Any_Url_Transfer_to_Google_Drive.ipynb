{
  "nbformat": 4,
  "nbformat_minor": 0,
  "metadata": {
    "colab": {
      "name": "Any Url Transfer to Google Drive.ipynb",
      "provenance": [],
      "collapsed_sections": []
    },
    "kernelspec": {
      "name": "python3",
      "display_name": "Python 3"
    }
  },
  "cells": [
    {
      "cell_type": "code",
      "metadata": {
        "id": "Ibsqrt1Jv6HD"
      },
      "source": [
        "from google.colab import drive\r\n",
        "drive.mount('/content/drive')"
      ],
      "execution_count": null,
      "outputs": []
    },
    {
      "cell_type": "code",
      "metadata": {
        "id": "PUwGHQ8QwB8R"
      },
      "source": [
        "import os\r\n",
        "os.chdir(\"/content/drive/My Drive\")\r\n",
        "\r\n",
        "!wget -c \"LINK DOWNLOAD PASTE HERE\" --no-check-certificate"
      ],
      "execution_count": null,
      "outputs": []
    }
  ]
}